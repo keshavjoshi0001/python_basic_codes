{
 "cells": [
  {
   "cell_type": "code",
   "execution_count": 1,
   "metadata": {},
   "outputs": [
    {
     "name": "stdout",
     "output_type": "stream",
     "text": [
      "4 7 10 13 16 19\n",
      "20 19 18 17 16 15 14 13 12 11 10 9 8 7 6 5 4 3 2 1\n",
      "1 3 5 7 9 11 13 15 17 19\n",
      "1 2 3 4 5 6 7 8 9 10\n",
      "16 14 12 10 8\n"
     ]
    }
   ],
   "source": [
    "l = [1,2,3,4,5,6,7,8,9,10,11,12,13,14,15,16,17,18,19,20]\n",
    "print(*l[3::3])\n",
    "print(*l[::-1])\n",
    "print(*l[::2])\n",
    "print(*l[-20:-10])\n",
    "print(*l[-5:-15:-2])\n"
   ]
  },
  {
   "cell_type": "code",
   "execution_count": 3,
   "metadata": {},
   "outputs": [
    {
     "name": "stdout",
     "output_type": "stream",
     "text": [
      "<class 'set'>\n",
      "['__and__', '__class__', '__contains__', '__delattr__', '__dir__', '__doc__', '__eq__', '__format__', '__ge__', '__getattribute__', '__gt__', '__hash__', '__iand__', '__init__', '__init_subclass__', '__ior__', '__isub__', '__iter__', '__ixor__', '__le__', '__len__', '__lt__', '__ne__', '__new__', '__or__', '__rand__', '__reduce__', '__reduce_ex__', '__repr__', '__ror__', '__rsub__', '__rxor__', '__setattr__', '__sizeof__', '__str__', '__sub__', '__subclasshook__', '__xor__', 'add', 'clear', 'copy', 'difference', 'difference_update', 'discard', 'intersection', 'intersection_update', 'isdisjoint', 'issubset', 'issuperset', 'pop', 'remove', 'symmetric_difference', 'symmetric_difference_update', 'union', 'update']\n"
     ]
    }
   ],
   "source": [
    "# Sets\n",
    "\n",
    "A = {'Hello', 1,5,234,3.14,11,12,13,14}\n",
    "B = {'bye','hi', 2,24,34,56}\n",
    "print(type(A))\n",
    "print(dir(B))"
   ]
  },
  {
   "cell_type": "code",
   "execution_count": 5,
   "metadata": {},
   "outputs": [
    {
     "name": "stdout",
     "output_type": "stream",
     "text": [
      "A intersection B =  {11, 12, 13, 14}\n",
      "A union B =  {1, 2, 3.14, 34, 5, 'Hello', 234, 11, 12, 13, 14, 24, 56, 'hi', 'bye'}\n",
      "Difference of A wrt B =  {1, 3.14, 5, 'Hello', 234}\n"
     ]
    }
   ],
   "source": [
    "A = {'Hello',1,5,234,3.14,11,12,13,14}\n",
    "B = {'bye', 'hi', 2,24,34,56,11,12,13,14}\n",
    "print(\"A intersection B = \",A.intersection(B))\n",
    "print(\"A union B = \",A.union(B))\n",
    "print(\"Difference of A wrt B = \",A.difference(B))"
   ]
  },
  {
   "cell_type": "code",
   "execution_count": 15,
   "metadata": {},
   "outputs": [
    {
     "name": "stdout",
     "output_type": "stream",
     "text": [
      "Only Hindi Newspaper readers :  palak shaid Keshav pooja\n",
      "Only English Newspaper readers :  kriti apurva ashish\n",
      "Total readers are :  palak pooja Keshav kriti keshav vaibhav devash ashish apurva jayati shaid\n",
      "Total are :  11\n"
     ]
    }
   ],
   "source": [
    "Hindi = {'Keshav','pooja','palak','shaid'}\n",
    "English = {'apurva','jayati','kriti','ashish'}\n",
    "Common = {'devash','vaibhav','keshav','jayati'}\n",
    "print(\"Only Hindi Newspaper readers : \",*Hindi.difference(Common))\n",
    "print(\"Only English Newspaper readers : \",*English.difference(Common))\n",
    "Total_readers = Hindi.union(English).union(Common)\n",
    "print(\"Total readers are : \",*Total_readers)\n",
    "print(\"Total are : \",len(Total_readers))"
   ]
  },
  {
   "cell_type": "code",
   "execution_count": null,
   "metadata": {},
   "outputs": [],
   "source": [
    "#Type Conversion\n",
    "\n",
    "#interger fraction\n"
   ]
  },
  {
   "cell_type": "code",
   "execution_count": 17,
   "metadata": {},
   "outputs": [
    {
     "name": "stdout",
     "output_type": "stream",
     "text": [
      "2\n",
      "12321321\n"
     ]
    }
   ],
   "source": [
    "print(int(2.45))\n",
    "#print(int(3.0+5.7j))#complex change nahi hoga\n",
    "print('12321321')#decimal no in int can be converted\n",
    "#print(int('1.23')) only decimal no allowed in int"
   ]
  },
  {
   "cell_type": "code",
   "execution_count": 18,
   "metadata": {},
   "outputs": [
    {
     "name": "stdout",
     "output_type": "stream",
     "text": [
      "22001747\n"
     ]
    }
   ],
   "source": [
    "y = int('123734123',8)\n",
    "print(y)"
   ]
  },
  {
   "cell_type": "code",
   "execution_count": 19,
   "metadata": {},
   "outputs": [
    {
     "name": "stdout",
     "output_type": "stream",
     "text": [
      "11259375\n"
     ]
    }
   ],
   "source": [
    "z = int('ABCDEF',16)\n",
    "print(z)"
   ]
  },
  {
   "cell_type": "code",
   "execution_count": 20,
   "metadata": {},
   "outputs": [
    {
     "name": "stdout",
     "output_type": "stream",
     "text": [
      "0b1111011\n"
     ]
    }
   ],
   "source": [
    "x = bin(123)\n",
    "print(x)"
   ]
  },
  {
   "cell_type": "code",
   "execution_count": 21,
   "metadata": {},
   "outputs": [
    {
     "name": "stdout",
     "output_type": "stream",
     "text": [
      "0b11001\n"
     ]
    }
   ],
   "source": [
    "x = bin(25)\n",
    "print(x)"
   ]
  },
  {
   "cell_type": "code",
   "execution_count": 22,
   "metadata": {},
   "outputs": [
    {
     "name": "stdout",
     "output_type": "stream",
     "text": [
      "0o156725\n"
     ]
    }
   ],
   "source": [
    "x = oct(56789)\n",
    "print(x)"
   ]
  },
  {
   "cell_type": "code",
   "execution_count": 23,
   "metadata": {},
   "outputs": [
    {
     "name": "stdout",
     "output_type": "stream",
     "text": [
      "0x10\n"
     ]
    }
   ],
   "source": [
    "x = hex(16)\n",
    "print(x)"
   ]
  },
  {
   "cell_type": "code",
   "execution_count": 25,
   "metadata": {},
   "outputs": [
    {
     "name": "stdout",
     "output_type": "stream",
     "text": [
      "0x2e0523fbc\n"
     ]
    }
   ],
   "source": [
    "x = hex(12353421244)\n",
    "print(x)"
   ]
  },
  {
   "cell_type": "code",
   "execution_count": 26,
   "metadata": {},
   "outputs": [
    {
     "name": "stdout",
     "output_type": "stream",
     "text": [
      "Z\n"
     ]
    }
   ],
   "source": [
    "c = chr(90)\n",
    "print(c)"
   ]
  },
  {
   "cell_type": "code",
   "execution_count": null,
   "metadata": {},
   "outputs": [],
   "source": [
    "#conversion to strings\n",
    "x = str(28734)\n",
    "y = str([34,34,34,343])\n",
    "z = str({'one':1},'twp':2)\n",
    "print(x,y,z)"
   ]
  }
 ],
 "metadata": {
  "kernelspec": {
   "display_name": "Python 3",
   "language": "python",
   "name": "python3"
  },
  "language_info": {
   "codemirror_mode": {
    "name": "ipython",
    "version": 3
   },
   "file_extension": ".py",
   "mimetype": "text/x-python",
   "name": "python",
   "nbconvert_exporter": "python",
   "pygments_lexer": "ipython3",
   "version": "3.6.4"
  }
 },
 "nbformat": 4,
 "nbformat_minor": 2
}
