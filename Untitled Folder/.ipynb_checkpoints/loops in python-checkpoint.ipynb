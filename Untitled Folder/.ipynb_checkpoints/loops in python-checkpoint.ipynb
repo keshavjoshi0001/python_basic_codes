{
 "cells": [
  {
   "cell_type": "code",
   "execution_count": 1,
   "metadata": {},
   "outputs": [
    {
     "name": "stdout",
     "output_type": "stream",
     "text": [
      "starting loop : \n",
      "\n",
      "\n",
      "hello worls!\n",
      "hello worls!\n",
      "hello worls!\n",
      "hello worls!\n",
      "hello worls!\n",
      "hello worls!\n",
      "hello worls!\n",
      "hello worls!\n",
      "hello worls!\n",
      "hello worls!\n",
      "hello worls!\n",
      "\n",
      "\n",
      "Loop ends Here : \n"
     ]
    }
   ],
   "source": [
    "# loops in python 1.while loop 2.for loop\n",
    "#while loop\n",
    "#loop_variable = value\n",
    "    #while condition :\n",
    "    #statement1\n",
    "    #statement2\n",
    "    #    \"\"\n",
    "    #    \"\"\n",
    "    #statementn\n",
    "    #increamnet or decreamnet of loop variable (to make codition false)\n",
    "\n",
    "#eg. printing hello world ! for ten times\n",
    "print (\"starting loop : \\n\\n\")\n",
    "\n",
    "counter = 80\n",
    "while counter <=90 :\n",
    "    \n",
    "    print(\"hello worls!\")\n",
    "    counter = counter + 1\n",
    "\n",
    "print(\"\\n\\nLoop ends Here : \")\n"
   ]
  },
  {
   "cell_type": "code",
   "execution_count": 3,
   "metadata": {},
   "outputs": [
    {
     "name": "stdout",
     "output_type": "stream",
     "text": [
      "1,2,3,4,5,6,7,8,9,10,11,12,13,14,15,16,17,18,19,20,21,22,23,24,25,26,27,28,29,30,31,32,33,34,35,36,37,38,39,40,41,42,43,44,45,46,47,48,49,50,51,52,53,54,55,56,57,58,59,60,61,62,63,64,65,66,67,68,69,70,71,72,73,74,75,76,77,78,79,80,81,82,83,84,85,86,87,88,89,90,91,92,93,94,95,96,97,98,99,100,"
     ]
    }
   ],
   "source": [
    "#guess the output\n",
    "counter = 1 #Loop variable\n",
    "\n",
    "while counter <=100 : #loop condition\n",
    "\n",
    "    print(counter,end=',') #block of code to be executed\n",
    "    counter = counter + 1 # increment or decrement to stop loop"
   ]
  },
  {
   "cell_type": "code",
   "execution_count": 4,
   "metadata": {},
   "outputs": [
    {
     "name": "stdout",
     "output_type": "stream",
     "text": [
      " loop varaible value 100\n",
      " loop varaible value 95\n",
      " loop varaible value 90\n",
      " loop varaible value 85\n",
      " loop varaible value 80\n",
      " loop varaible value 75\n",
      " loop varaible value 70\n",
      " loop varaible value 65\n",
      " loop varaible value 60\n",
      " loop varaible value 55\n",
      " loop varaible value 50\n",
      " loop varaible value 45\n",
      " loop varaible value 40\n",
      " loop varaible value 35\n",
      " loop varaible value 30\n",
      " loop varaible value 25\n",
      " loop varaible value 20\n",
      " loop varaible value 15\n",
      " loop varaible value 10\n",
      " loop varaible value 5\n",
      "20\n"
     ]
    }
   ],
   "source": [
    "#quiz 2\n",
    "counter = 100\n",
    "loop_run = 0\n",
    "while counter >= 1 :\n",
    "    \n",
    "    print(\" loop varaible value\", counter)\n",
    "    counter = counter - 5\n",
    "    loop_run = loop_run + 1\n",
    "    \n",
    "print(loop_run)"
   ]
  },
  {
   "cell_type": "code",
   "execution_count": 9,
   "metadata": {},
   "outputs": [
    {
     "name": "stdout",
     "output_type": "stream",
     "text": [
      " Enter a Number : 13\n",
      "13x1=13\n",
      "13x2=26\n",
      "13x3=39\n",
      "13x4=52\n",
      "13x5=65\n",
      "13x6=78\n",
      "13x7=91\n",
      "13x8=104\n",
      "13x9=117\n",
      "13x10=130\n"
     ]
    }
   ],
   "source": [
    "#write a program in python using while to print table of a no  given by user \n",
    "num = int(input(\" Enter a Number : \"))\n",
    "counter = 1\n",
    "while counter <= 10 :\n",
    "    \n",
    "    print(\"{}x{}={}\".format(num,counter,num*counter))\n",
    "    counter += 1"
   ]
  },
  {
   "cell_type": "code",
   "execution_count": 14,
   "metadata": {},
   "outputs": [
    {
     "name": "stdout",
     "output_type": "stream",
     "text": [
      "Welcome to Rock Paper Scissor Program \n",
      "Enter choice as \n",
      "*******************************rock,paper,scissor*******************************\n",
      "Your choice :········\n",
      "*********************************************processing*********************************************\n",
      "Computer choice was : ROCK\n",
      "Your choice was : ROCK\n",
      "*****************************************Processing Result******************************************\n",
      "\n",
      "\n",
      "\n",
      "############################################Match is tie############################################\n",
      "\n",
      "\n",
      "\n",
      "**********************************************Bye Bye***********************************************\n",
      "Press y to continue :no\n"
     ]
    }
   ],
   "source": [
    "#Game Rock Paper Scissor\n",
    "from getpass import getpass #to take hidden inputs works as input function\n",
    "from time import sleep #used to delay the progrma by seconds\n",
    "from random import choice\n",
    "\n",
    "\n",
    "while True :\n",
    "    print(\"Welcome to Rock Paper Scissor Program \")\n",
    "    sleep(1)\n",
    "    print(\"Enter choice as \")\n",
    "    sleep(1)\n",
    "    s = \"rock,paper,scissor\"\n",
    "    print(s.center(80,'*'))\n",
    "    sleep(1)\n",
    "    mylist = ['rock','paper','scissor']\n",
    "    p1 = choice(mylist)\n",
    "    p1 = p1.lower()\n",
    "    if p1 == 'rock' or p1 == 'paper' or p1 == 'scissor' :\n",
    "        pass\n",
    "    else :\n",
    "        print(\"Error!!Invalid choice\")\n",
    "        exit(0)\n",
    "    sleep(1)\n",
    "    p2 = getpass(\"Your choice :\").strip()\n",
    "    p2 = p2.lower()\n",
    "    if p2 == 'rock' or p2 == 'paper' or p2 == 'scissor' :\n",
    "        pass\n",
    "    else :\n",
    "        print(\"Error!!Invalid choice\")\n",
    "        exit(0)\n",
    "        \n",
    "    sleep(1)\n",
    "    s = \"processing\"\n",
    "    print(s.center(100,\"*\"))\n",
    "    sleep(2)\n",
    "    print(\"Computer choice was : {}\".format(p1.upper()))\n",
    "    print(\"Your choice was : {}\".format(p2.upper()))\n",
    "    s = \"Processing Result\"\n",
    "    print(s.center(100,'*'))\n",
    "    sleep(2)\n",
    "    \n",
    "    if p1 == p2 :\n",
    "        print(\"\\n\\n\")\n",
    "        print(\"Match is tie\".center(100,'#'))\n",
    "        print(\"\\n\\n\")\n",
    "        \n",
    "    elif (p1 == 'rock' and p2 == 'scissor') or (p1 == 'paper' and p2 == 'rock') or (p1 == 'scissor' and p2 == 'paper') :\n",
    "        print(\"\\n\\n\")\n",
    "        print(\"Player1 is The Winner\".center(100,'#'))\n",
    "        print(\"\\n\\n\")\n",
    "        \n",
    "    else :\n",
    "        print(\"\\n\\n\")\n",
    "        print(\"Player2 is The Winner\".center(100,'#'))\n",
    "        print(\"\\n\\n\")\n",
    "        \n",
    "    sleep(2)\n",
    "    print(\"Bye Bye\".center(100,'*'))\n",
    "    sleep(2)\n",
    "    \n",
    "    ch = input(\"Press y to continue :\").strip()\n",
    "    ch = ch.lower()\n",
    "    if ch == 'y' or ch == 'yes' :\n",
    "        continue\n",
    "    else :\n",
    "        break"
   ]
  },
  {
   "cell_type": "code",
   "execution_count": 1,
   "metadata": {},
   "outputs": [
    {
     "name": "stdout",
     "output_type": "stream",
     "text": [
      "2\t4\t6\t8\t10\t12\t14\t16\t18\t20\t22\t24\t26\t28\t30\t32\t34\t36\t38\t40\t42\t44\t46\t48\t50\t52\t54\t56\t58\t60\t62\t64\t66\t68\t70\t72\t74\t76\t78\t80\t82\t84\t86\t88\t90\t92\t94\t96\t98\t100\t"
     ]
    }
   ],
   "source": [
    "#print all even numbers\n",
    "\n",
    "c = 1\n",
    "while c <= 100 :\n",
    "    if c % 2 == 0 :\n",
    "        print(c,end='\\t') # '\\t' means tab\n",
    "    c += 1"
   ]
  },
  {
   "cell_type": "code",
   "execution_count": 1,
   "metadata": {},
   "outputs": [
    {
     "name": "stdout",
     "output_type": "stream",
     "text": [
      "1\t3\t5\t7\t9\t11\t13\t15\t17\t19\t21\t23\t25\t27\t29\t31\t33\t35\t37\t39\t41\t43\t45\t47\t49\t51\t53\t55\t57\t59\t61\t63\t65\t67\t69\t71\t73\t75\t77\t79\t81\t83\t85\t87\t89\t91\t93\t95\t97\t99\t"
     ]
    }
   ],
   "source": [
    "#print all odd numbers\n",
    "\n",
    "c = 1\n",
    "while c <= 100 :\n",
    "    if c % 2 == 1 :\n",
    "        print(c,end=\"\\t\")\n",
    "    c += 1"
   ]
  },
  {
   "cell_type": "code",
   "execution_count": 3,
   "metadata": {},
   "outputs": [
    {
     "name": "stdout",
     "output_type": "stream",
     "text": [
      "104\t117\t130\t143\t156\t169\t182\t195\t208\t221\t234\t247\t260\t273\t286\t299\t312\t325\t338\t351\t364\t377\t390\t403\t416\t429\t442\t455\t468\t481\t494\t507\t520\t533\t546\t559\t572\t585\t598\t611\t624\t637\t650\t663\t676\t689\t702\t715\t728\t741\t754\t767\t780\t793\t806\t819\t832\t845\t858\t871\t884\t897\t910\t923\t936\t949\t962\t975\t988\t"
     ]
    }
   ],
   "source": [
    "c = 100\n",
    "while c <= 1000 :\n",
    "    if c % 13 == 0 :\n",
    "        print(c,end='\\t')\n",
    "    c += 1"
   ]
  },
  {
   "cell_type": "code",
   "execution_count": 1,
   "metadata": {},
   "outputs": [
    {
     "name": "stdout",
     "output_type": "stream",
     "text": [
      "Starting Point : 1\n",
      "Ending Point : 130\n",
      "13\t26\t39\t52\t65\t78\t91\t104\t117\t130\t"
     ]
    }
   ],
   "source": [
    "start = int(input(\"Starting Point : \"))\n",
    "end = int(input(\"Ending Point : \"))\n",
    "\n",
    "while start <= end :\n",
    "    \n",
    "    if start % 13 == 0 :\n",
    "        \n",
    "        print(start,end='\\t')\n",
    "        \n",
    "    start = start + 1\n",
    "    "
   ]
  },
  {
   "cell_type": "code",
   "execution_count": 5,
   "metadata": {},
   "outputs": [
    {
     "ename": "TypeError",
     "evalue": "int() argument must be a string, a bytes-like object or a number, not 'method'",
     "output_type": "error",
     "traceback": [
      "\u001b[0;31m---------------------------------------------------------------------------\u001b[0m",
      "\u001b[0;31mTypeError\u001b[0m                                 Traceback (most recent call last)",
      "\u001b[0;32m<ipython-input-5-ef70215d3927>\u001b[0m in \u001b[0;36m<module>\u001b[0;34m()\u001b[0m\n\u001b[0;32m----> 1\u001b[0;31m \u001b[0mstart\u001b[0m \u001b[0;34m=\u001b[0m \u001b[0mint\u001b[0m\u001b[0;34m(\u001b[0m\u001b[0minput\u001b[0m\u001b[0;34m)\u001b[0m\u001b[0;34m\u001b[0m\u001b[0m\n\u001b[0m",
      "\u001b[0;31mTypeError\u001b[0m: int() argument must be a string, a bytes-like object or a number, not 'method'"
     ]
    }
   ],
   "source": [
    "start = int(input)"
   ]
  },
  {
   "cell_type": "code",
   "execution_count": 2,
   "metadata": {},
   "outputs": [
    {
     "name": "stdout",
     "output_type": "stream",
     "text": [
      "starting point : 1\n",
      "Ending point : 100\n",
      "2\t3\t4\t5\t6\t8\t9\t10\t12\t14\t15\t16\t18\t20\t21\t22\t24\t25\t26\t27\t28\t30\t32\t33\t34\t35\t36\t38\t39\t40\t42\t44\t45\t46\t48\t50\t51\t52\t54\t55\t56\t57\t58\t60\t62\t63\t64\t65\t66\t68\t69\t70\t72\t74\t75\t76\t78\t80\t81\t82\t84\t85\t86\t87\t88\t90\t92\t93\t94\t95\t96\t98\t99\t100\t"
     ]
    }
   ],
   "source": [
    "start = int(input(\"starting point : \"))\n",
    "end = int(input(\"Ending point : \"))\n",
    "\n",
    "while start <= end :\n",
    "    \n",
    "    if start % 2 == 0 or start % 3 == 0 or start % 5 == 0 :\n",
    "        \n",
    "        print(start,end='\\t')\n",
    "        \n",
    "    start = start + 1"
   ]
  },
  {
   "cell_type": "code",
   "execution_count": 15,
   "metadata": {},
   "outputs": [
    {
     "name": "stdout",
     "output_type": "stream",
     "text": [
      "Starting point : 1\n",
      "Ending point : 40\n",
      "1\t2\t3\t4\t5\t6\t7\t8\t9\t10\t\n",
      "2\t4\t6\t8\t10\t12\t14\t16\t18\t20\t\n",
      "3\t6\t9\t12\t15\t18\t21\t24\t27\t30\t\n",
      "4\t8\t12\t16\t20\t24\t28\t32\t36\t40\t\n",
      "5\t10\t15\t20\t25\t30\t35\t40\t45\t50\t\n",
      "6\t12\t18\t24\t30\t36\t42\t48\t54\t60\t\n",
      "7\t14\t21\t28\t35\t42\t49\t56\t63\t70\t\n",
      "8\t16\t24\t32\t40\t48\t56\t64\t72\t80\t\n",
      "9\t18\t27\t36\t45\t54\t63\t72\t81\t90\t\n",
      "10\t20\t30\t40\t50\t60\t70\t80\t90\t100\t\n",
      "11\t22\t33\t44\t55\t66\t77\t88\t99\t110\t\n",
      "12\t24\t36\t48\t60\t72\t84\t96\t108\t120\t\n",
      "13\t26\t39\t52\t65\t78\t91\t104\t117\t130\t\n",
      "14\t28\t42\t56\t70\t84\t98\t112\t126\t140\t\n",
      "15\t30\t45\t60\t75\t90\t105\t120\t135\t150\t\n",
      "16\t32\t48\t64\t80\t96\t112\t128\t144\t160\t\n",
      "17\t34\t51\t68\t85\t102\t119\t136\t153\t170\t\n",
      "18\t36\t54\t72\t90\t108\t126\t144\t162\t180\t\n",
      "19\t38\t57\t76\t95\t114\t133\t152\t171\t190\t\n",
      "20\t40\t60\t80\t100\t120\t140\t160\t180\t200\t\n",
      "21\t42\t63\t84\t105\t126\t147\t168\t189\t210\t\n",
      "22\t44\t66\t88\t110\t132\t154\t176\t198\t220\t\n",
      "23\t46\t69\t92\t115\t138\t161\t184\t207\t230\t\n",
      "24\t48\t72\t96\t120\t144\t168\t192\t216\t240\t\n",
      "25\t50\t75\t100\t125\t150\t175\t200\t225\t250\t\n",
      "26\t52\t78\t104\t130\t156\t182\t208\t234\t260\t\n",
      "27\t54\t81\t108\t135\t162\t189\t216\t243\t270\t\n",
      "28\t56\t84\t112\t140\t168\t196\t224\t252\t280\t\n",
      "29\t58\t87\t116\t145\t174\t203\t232\t261\t290\t\n",
      "30\t60\t90\t120\t150\t180\t210\t240\t270\t300\t\n",
      "31\t62\t93\t124\t155\t186\t217\t248\t279\t310\t\n",
      "32\t64\t96\t128\t160\t192\t224\t256\t288\t320\t\n",
      "33\t66\t99\t132\t165\t198\t231\t264\t297\t330\t\n",
      "34\t68\t102\t136\t170\t204\t238\t272\t306\t340\t\n",
      "35\t70\t105\t140\t175\t210\t245\t280\t315\t350\t\n",
      "36\t72\t108\t144\t180\t216\t252\t288\t324\t360\t\n",
      "37\t74\t111\t148\t185\t222\t259\t296\t333\t370\t\n",
      "38\t76\t114\t152\t190\t228\t266\t304\t342\t380\t\n",
      "39\t78\t117\t156\t195\t234\t273\t312\t351\t390\t\n",
      "40\t80\t120\t160\t200\t240\t280\t320\t360\t400\t\n"
     ]
    }
   ],
   "source": [
    "start = int(input(\"Starting point : \"))\n",
    "end = int(input(\"Ending point : \"))\n",
    "while start <= end :\n",
    "    counter = 1\n",
    "    while counter <= 10 :\n",
    "        print(start*counter,end='\\t')\n",
    "        counter += 1\n",
    "    print()\n",
    "    start = start + 1"
   ]
  },
  {
   "cell_type": "code",
   "execution_count": null,
   "metadata": {},
   "outputs": [],
   "source": [
    "#eg. number is prime\n",
    "num = int(input(\"Enter a number : \"))\n",
    "counter = 1\n",
    "while counter <= num - 1 :\n",
    "    print(\"Number entered is prime\")\n",
    "    counter = counter + 1"
   ]
  },
  {
   "cell_type": "code",
   "execution_count": null,
   "metadata": {},
   "outputs": [],
   "source": [
    "num = int(input(\"Enter a number :\"))\n",
    "\n",
    "s = 2\n",
    "e = num - 1 \n",
    "\n",
    "while s <= e :\n",
    "    \n",
    "    if num % s == 0 :\n",
    "        \n",
    "        f = Fasle\n",
    "        break\n",
    "    else :\n",
    "        \n",
    "        f = True\n",
    "        \n",
    "    s += 1\n",
    "    \n",
    "if f == True :\n",
    "    print(\"Given {} is prime number\".format(num))\n",
    "else :\n",
    "    print(\"Given {} is not a prime number\".format(num))\n",
    "    "
   ]
  },
  {
   "cell_type": "code",
   "execution_count": null,
   "metadata": {},
   "outputs": [],
   "source": []
  }
 ],
 "metadata": {
  "kernelspec": {
   "display_name": "Python 3",
   "language": "python",
   "name": "python3"
  },
  "language_info": {
   "codemirror_mode": {
    "name": "ipython",
    "version": 3
   },
   "file_extension": ".py",
   "mimetype": "text/x-python",
   "name": "python",
   "nbconvert_exporter": "python",
   "pygments_lexer": "ipython3",
   "version": "3.6.4"
  }
 },
 "nbformat": 4,
 "nbformat_minor": 2
}
