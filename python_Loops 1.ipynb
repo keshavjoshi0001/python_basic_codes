{
 "cells": [
  {
   "cell_type": "code",
   "execution_count": 1,
   "metadata": {},
   "outputs": [
    {
     "name": "stdout",
     "output_type": "stream",
     "text": [
      "Starting Loop : \n",
      "\n",
      "\n",
      "Hello World!\n",
      "Hello World!\n",
      "Hello World!\n",
      "Hello World!\n",
      "Hello World!\n",
      "Hello World!\n",
      "Hello World!\n",
      "Hello World!\n",
      "Hello World!\n",
      "Hello World!\n",
      "Hello World!\n",
      "\n",
      "\n",
      "Loop ends Here : \n"
     ]
    }
   ],
   "source": [
    "#while loop\n",
    "#syntax\n",
    "#loop_variable = value\n",
    "#while condition :\n",
    "#statement1\n",
    "#statement2\n",
    "#    \"\"\n",
    "#    \"\"\n",
    "#statementn\n",
    "#increment or decrement of loop varibale (to make condition false)\n",
    "\n",
    "\n",
    "#eg. printing hello world ! for ten times\n",
    "print(\"Starting Loop : \\n\\n\")\n",
    "\n",
    "counter = 80\n",
    "while counter <= 90 :\n",
    "    \n",
    "    print(\"Hello World!\")\n",
    "    counter = counter + 1\n",
    "    \n",
    "print(\"\\n\\nLoop ends Here : \")"
   ]
  },
  {
   "cell_type": "code",
   "execution_count": 2,
   "metadata": {},
   "outputs": [
    {
     "name": "stdout",
     "output_type": "stream",
     "text": [
      "1,2,3,4,5,6,7,8,9,10,11,12,13,14,15,16,17,18,19,20,21,22,23,24,25,26,27,28,29,30,31,32,33,34,35,36,37,38,39,40,41,42,43,44,45,46,47,48,49,50,51,52,53,54,55,56,57,58,59,60,61,62,63,64,65,66,67,68,69,70,71,72,73,74,75,76,77,78,79,80,81,82,83,84,85,86,87,88,89,90,91,92,93,94,95,96,97,98,99,100,"
     ]
    }
   ],
   "source": [
    "#Guess the output\n",
    "counter = 1 #Loop variable\n",
    "\n",
    "while counter <= 100 : #Loop condition\n",
    "    print(counter,end=',') #block of code to be executed\n",
    "    counter = counter + 1 #increment or decrement to stop loop"
   ]
  },
  {
   "cell_type": "code",
   "execution_count": 4,
   "metadata": {},
   "outputs": [
    {
     "name": "stdout",
     "output_type": "stream",
     "text": [
      "Loop variable value  100\n",
      "Loop variable value  95\n",
      "Loop variable value  90\n",
      "Loop variable value  85\n",
      "Loop variable value  80\n",
      "Loop variable value  75\n",
      "Loop variable value  70\n",
      "Loop variable value  65\n",
      "Loop variable value  60\n",
      "Loop variable value  55\n",
      "Loop variable value  50\n",
      "Loop variable value  45\n",
      "Loop variable value  40\n",
      "Loop variable value  35\n",
      "Loop variable value  30\n",
      "Loop variable value  25\n",
      "Loop variable value  20\n",
      "Loop variable value  15\n",
      "Loop variable value  10\n",
      "Loop variable value  5\n",
      "20\n"
     ]
    }
   ],
   "source": [
    "#quiz 2\n",
    "\n",
    "counter = 100\n",
    "loop_run = 0\n",
    "while counter >= 1 :\n",
    "    print (\"Loop variable value \",counter)\n",
    "    counter = counter - 5\n",
    "    loop_run = loop_run + 1\n",
    "    \n",
    "print(loop_run)"
   ]
  },
  {
   "cell_type": "code",
   "execution_count": 6,
   "metadata": {},
   "outputs": [
    {
     "name": "stdout",
     "output_type": "stream",
     "text": [
      "Enter a no : 13\n",
      "13x1=13\n",
      "13x2=26\n",
      "13x3=39\n",
      "13x4=52\n",
      "13x5=65\n",
      "13x6=78\n",
      "13x7=91\n",
      "13x8=104\n",
      "13x9=117\n",
      "13x10=130\n"
     ]
    }
   ],
   "source": [
    "#write a program in python using while to print table of a no give by user\n",
    "num = int(input(\"Enter a no : \"))\n",
    "counter = 1\n",
    "while counter <= 10 :\n",
    "    \n",
    "    print(\"{}x{}={}\".format(num,counter,num*counter))\n",
    "    counter = counter + 1 "
   ]
  },
  {
   "cell_type": "code",
   "execution_count": 6,
   "metadata": {},
   "outputs": [
    {
     "name": "stdout",
     "output_type": "stream",
     "text": [
      "Welcome to Rock Paper Scissor Program\n",
      "Enter choice as \n",
      "*******************************Rock,paper,scissor*******************************\n",
      "Your choice was : ········\n",
      "*********************************************processing*********************************************\n",
      "Computer choice was : PAPER\n",
      "Your Choice was : ROCK\n",
      "*****************************************Processing result******************************************\n",
      "\n",
      "\n",
      "\n",
      "########################################Player1 is winner : ########################################\n",
      "\n",
      "\n",
      "\n",
      "**********************************************BYE BYE***********************************************\n",
      "Press y to continue : n\n"
     ]
    }
   ],
   "source": [
    "#Game Rock Paper Scissor\n",
    "from getpass import getpass #to take hidden inputs works as input function\n",
    "from time import sleep #used to delay the program by seconds\n",
    "from random import choice\n",
    "\n",
    "while True:\n",
    "    print(\"Welcome to Rock Paper Scissor Program\")\n",
    "    sleep(1)\n",
    "    print(\"Enter choice as \")\n",
    "    sleep(1)\n",
    "    s= \"Rock,paper,scissor\"\n",
    "    print(s.center(80,'*'))\n",
    "    sleep(1)\n",
    "    mylist=['rock','paper','scissor']\n",
    "    p1= choice(mylist)\n",
    "    p1= p1.lower()\n",
    "    if p1 == 'rock' or p1 == 'paper' or p1 == 'scissor' :\n",
    "        pass\n",
    "    else :\n",
    "        print('Error!!Invalid choice')\n",
    "        exit(0)\n",
    "    sleep(1)\n",
    "    p2 = getpass(\"Your choice was : \").strip()\n",
    "    p2 = p2.lower()\n",
    "    if p2 == 'rock' or p2 == 'paper' or p2 == 'scissor' :\n",
    "        pass\n",
    "    else :\n",
    "        print('Error!!Invalid choice')\n",
    "        exit(0)\n",
    "        \n",
    "    sleep(1)\n",
    "    s = \"processing\"\n",
    "    print(s.center(100,\"*\"))\n",
    "    sleep(2)\n",
    "    print(\"Computer choice was : {}\".format(p1.upper()))\n",
    "    print(\"Your Choice was : {}\".format(p2.upper()))\n",
    "    s = \"Processing result\"\n",
    "    print(s.center(100,'*'))\n",
    "    sleep(2)\n",
    "    \n",
    "    if p1 == p2 :\n",
    "        print(\"\\n\\n\")\n",
    "        print(\"Match is Tie :\".center(100,'#'))\n",
    "        print(\"\\n\\n\")\n",
    "    \n",
    "    elif ( p1 == 'rock' and p2 == 'scissor') or ( p1 == 'paper' and p2 == 'rock') or ( p1 == 'scissor' and p2 == 'paper') :\n",
    "        print(\"\\n\\n\")\n",
    "        print(\"Player1 is winner : \".center(100,'#'))\n",
    "        print(\"\\n\\n\")\n",
    "            \n",
    "    else :\n",
    "        \n",
    "        print(\"\\n\\n\")\n",
    "        print(\"Player2 is winner :\".center(100,'#'))\n",
    "        print(\"\\n\\n\")\n",
    "                   \n",
    "    sleep(2)\n",
    "    print(\"BYE BYE\".center(100,'*'))\n",
    "    sleep(2)\n",
    "    \n",
    "    ch = input(\"Press y to continue : \").strip()\n",
    "    ch = ch.lower()\n",
    "    if ch == 'y' or ch == 'yes' :\n",
    "        continue\n",
    "    else :\n",
    "                break"
   ]
  },
  {
   "cell_type": "code",
   "execution_count": null,
   "metadata": {},
   "outputs": [
    {
     "name": "stdout",
     "output_type": "stream",
     "text": [
      "1\t"
     ]
    }
   ],
   "source": [
    "#eg. all even numbers\n",
    "\n",
    "c = 1\n",
    "while c <= 100 :\n",
    "    if c % 2 == 0 :\n",
    "        \n",
    "        pass\n",
    "    else :\n",
    "        print(c,end='\\t')\n",
    "        c += 1"
   ]
  },
  {
   "cell_type": "code",
   "execution_count": null,
   "metadata": {},
   "outputs": [],
   "source": [
    "#eg. all odd numbers\n",
    "\n",
    "c = 1\n",
    "while c <= 100 :\n",
    "    if c % 2 == 1 :\n",
    "        \n",
    "        pass\n",
    "    else:\n",
    "        print(c,end='\\t')\n",
    "        c += 1"
   ]
  },
  {
   "cell_type": "code",
   "execution_count": 1,
   "metadata": {},
   "outputs": [
    {
     "name": "stdout",
     "output_type": "stream",
     "text": [
      "Enter starting point : 1\n",
      "Enter ending point : 20\n",
      "1\t2\t3\t4\t5\t6\t7\t8\t9\t10\t\n",
      "2\t4\t6\t8\t10\t12\t14\t16\t18\t20\t\n",
      "3\t6\t9\t12\t15\t18\t21\t24\t27\t30\t\n",
      "4\t8\t12\t16\t20\t24\t28\t32\t36\t40\t\n",
      "5\t10\t15\t20\t25\t30\t35\t40\t45\t50\t\n",
      "6\t12\t18\t24\t30\t36\t42\t48\t54\t60\t\n",
      "7\t14\t21\t28\t35\t42\t49\t56\t63\t70\t\n",
      "8\t16\t24\t32\t40\t48\t56\t64\t72\t80\t\n",
      "9\t18\t27\t36\t45\t54\t63\t72\t81\t90\t\n",
      "10\t20\t30\t40\t50\t60\t70\t80\t90\t100\t\n",
      "11\t22\t33\t44\t55\t66\t77\t88\t99\t110\t\n",
      "12\t24\t36\t48\t60\t72\t84\t96\t108\t120\t\n",
      "13\t26\t39\t52\t65\t78\t91\t104\t117\t130\t\n",
      "14\t28\t42\t56\t70\t84\t98\t112\t126\t140\t\n",
      "15\t30\t45\t60\t75\t90\t105\t120\t135\t150\t\n",
      "16\t32\t48\t64\t80\t96\t112\t128\t144\t160\t\n",
      "17\t34\t51\t68\t85\t102\t119\t136\t153\t170\t\n",
      "18\t36\t54\t72\t90\t108\t126\t144\t162\t180\t\n",
      "19\t38\t57\t76\t95\t114\t133\t152\t171\t190\t\n",
      "20\t40\t60\t80\t100\t120\t140\t160\t180\t200\t\n"
     ]
    }
   ],
   "source": [
    "start = int(input('Enter starting point : '))\n",
    "end = int(input('Enter ending point : '))\n",
    "while start <= end :\n",
    "    \n",
    "    c = 1 \n",
    "    while c <= 10 :\n",
    "        print(start*c,end='\\t')\n",
    "        c += 1\n",
    "    print()\n",
    "    start += 1"
   ]
  },
  {
   "cell_type": "code",
   "execution_count": 10,
   "metadata": {},
   "outputs": [
    {
     "name": "stdout",
     "output_type": "stream",
     "text": [
      "Enter a Number : 3\n",
      "Given 3 is a Prime Number. \n"
     ]
    }
   ],
   "source": [
    "#eg. prime number\n",
    "num = int(input(\"Enter a Number : \")) #101\n",
    "\n",
    "s = 2\n",
    "e = num - 1\n",
    "\n",
    "while s <= e :\n",
    "    \n",
    "    if num % s == 0 :\n",
    "        f = \"not prime\"\n",
    "        print(\"Given {} is not a Prime Number. \".format(num))\n",
    "        break\n",
    "    else :\n",
    "        \n",
    "        f = \"may be prime\"\n",
    "        \n",
    "    s += 1\n",
    "    \n",
    "if f == \"may be prime\" :\n",
    "    print(\"Given {} is a Prime Number. \".format(num))"
   ]
  },
  {
   "cell_type": "code",
   "execution_count": null,
   "metadata": {},
   "outputs": [],
   "source": []
  },
  {
   "cell_type": "code",
   "execution_count": null,
   "metadata": {},
   "outputs": [],
   "source": []
  }
 ],
 "metadata": {
  "kernelspec": {
   "display_name": "Python 3",
   "language": "python",
   "name": "python3"
  },
  "language_info": {
   "codemirror_mode": {
    "name": "ipython",
    "version": 3
   },
   "file_extension": ".py",
   "mimetype": "text/x-python",
   "name": "python",
   "nbconvert_exporter": "python",
   "pygments_lexer": "ipython3",
   "version": "3.6.4"
  }
 },
 "nbformat": 4,
 "nbformat_minor": 2
}
